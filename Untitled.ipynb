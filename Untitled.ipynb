{
 "cells": [
  {
   "cell_type": "code",
   "execution_count": 1,
   "id": "9c5108bc",
   "metadata": {},
   "outputs": [],
   "source": [
    "import pandas as pd"
   ]
  },
  {
   "cell_type": "code",
   "execution_count": 17,
   "id": "339e00b2",
   "metadata": {},
   "outputs": [],
   "source": [
    "data = pd.read_sql_table('beer', 'sqlite:///beerlog.db', columns=['name', 'rate'])"
   ]
  },
  {
   "cell_type": "code",
   "execution_count": 20,
   "id": "2b931b78",
   "metadata": {},
   "outputs": [
    {
     "data": {
      "text/plain": [
       "<AxesSubplot:ylabel='name'>"
      ]
     },
     "execution_count": 20,
     "metadata": {},
     "output_type": "execute_result"
    },
    {
     "data": {
      "image/png": "[encoded data removed]",
      "text/plain": [
       "<Figure size 1440x720 with 1 Axes>"
      ]
     },
     "metadata": {
      "needs_background": "light"
     },
     "output_type": "display_data"
    }
   ],
   "source": [
    "data.plot(kind='barh', x='name', y='rate', figsize=(20,10))"
   ]
  },
  {
   "cell_type": "code",
   "execution_count": 21,
   "id": "885a9a33",
   "metadata": {},
   "outputs": [],
   "source": [
    "scraper = pd.read_html('https://en.wikipedia.org/wiki/List_of_countries_by_beer_consumption_per_capita', attrs={'class': 'wikitable'})"
   ]
  },
  {
   "cell_type": "code",
   "execution_count": 23,
   "id": "25980e7a",
   "metadata": {},
   "outputs": [
    {
     "data": {
      "text/html": [
       "<div>\n",
       "<style scoped>\n",
       "    .dataframe tbody tr th:only-of-type {\n",
       "        vertical-align: middle;\n",
       "    }\n",
       "\n",
       "    .dataframe tbody tr th {\n",
       "        vertical-align: top;\n",
       "    }\n",
       "\n",
       "    .dataframe thead th {\n",
       "        text-align: right;\n",
       "    }\n",
       "</style>\n",
       "<table border=\"1\" class=\"dataframe\">\n",
       "  <thead>\n",
       "    <tr style=\"text-align: right;\">\n",
       "      <th></th>\n",
       "      <th>Country</th>\n",
       "      <th>Consumptionper capita[1](litres per year)</th>\n",
       "      <th>2018change(litres per year)</th>\n",
       "      <th>Total nationalconsumption[a](million litresper year)</th>\n",
       "      <th>Year</th>\n",
       "      <th>Sources</th>\n",
       "    </tr>\n",
       "  </thead>\n",
       "  <tbody>\n",
       "    <tr>\n",
       "      <th>0</th>\n",
       "      <td>Czech Republic *</td>\n",
       "      <td>140.0</td>\n",
       "      <td>NaN</td>\n",
       "      <td>1498.0</td>\n",
       "      <td>2020.0</td>\n",
       "      <td>[2]</td>\n",
       "    </tr>\n",
       "    <tr>\n",
       "      <th>1</th>\n",
       "      <td>Austria *</td>\n",
       "      <td>107.8</td>\n",
       "      <td>0.2</td>\n",
       "      <td>949.0</td>\n",
       "      <td>2019.0</td>\n",
       "      <td>[1]</td>\n",
       "    </tr>\n",
       "    <tr>\n",
       "      <th>2</th>\n",
       "      <td>Romania *</td>\n",
       "      <td>100.3</td>\n",
       "      <td>1.4</td>\n",
       "      <td>1956.0</td>\n",
       "      <td>2019.0</td>\n",
       "      <td>[1]</td>\n",
       "    </tr>\n",
       "    <tr>\n",
       "      <th>3</th>\n",
       "      <td>Germany *</td>\n",
       "      <td>99.0</td>\n",
       "      <td>-2.1</td>\n",
       "      <td>8160.0</td>\n",
       "      <td>2019.0</td>\n",
       "      <td>[1]</td>\n",
       "    </tr>\n",
       "    <tr>\n",
       "      <th>4</th>\n",
       "      <td>Poland *</td>\n",
       "      <td>97.7</td>\n",
       "      <td>-0.5</td>\n",
       "      <td>3713.0</td>\n",
       "      <td>2019.0</td>\n",
       "      <td>[1]</td>\n",
       "    </tr>\n",
       "    <tr>\n",
       "      <th>...</th>\n",
       "      <td>...</td>\n",
       "      <td>...</td>\n",
       "      <td>...</td>\n",
       "      <td>...</td>\n",
       "      <td>...</td>\n",
       "      <td>...</td>\n",
       "    </tr>\n",
       "    <tr>\n",
       "      <th>56</th>\n",
       "      <td>Uganda</td>\n",
       "      <td>6.0</td>\n",
       "      <td>NaN</td>\n",
       "      <td>NaN</td>\n",
       "      <td>NaN</td>\n",
       "      <td>[11]</td>\n",
       "    </tr>\n",
       "    <tr>\n",
       "      <th>57</th>\n",
       "      <td>Malaysia *</td>\n",
       "      <td>5.8</td>\n",
       "      <td>NaN</td>\n",
       "      <td>NaN</td>\n",
       "      <td>2015.0</td>\n",
       "      <td>[4]</td>\n",
       "    </tr>\n",
       "    <tr>\n",
       "      <th>58</th>\n",
       "      <td>Sri Lanka *</td>\n",
       "      <td>2.0</td>\n",
       "      <td>NaN</td>\n",
       "      <td>50.0</td>\n",
       "      <td>NaN</td>\n",
       "      <td>[13]</td>\n",
       "    </tr>\n",
       "    <tr>\n",
       "      <th>59</th>\n",
       "      <td>India *</td>\n",
       "      <td>2.0</td>\n",
       "      <td>NaN</td>\n",
       "      <td>NaN</td>\n",
       "      <td>2015.0</td>\n",
       "      <td>[4]</td>\n",
       "    </tr>\n",
       "    <tr>\n",
       "      <th>60</th>\n",
       "      <td>Indonesia *</td>\n",
       "      <td>0.7</td>\n",
       "      <td>NaN</td>\n",
       "      <td>NaN</td>\n",
       "      <td>2015.0</td>\n",
       "      <td>[4]</td>\n",
       "    </tr>\n",
       "  </tbody>\n",
       "</table>\n",
       "<p>61 rows × 6 columns</p>\n",
       "</div>"
      ],
      "text/plain": [
       "             Country  Consumptionper capita[1](litres per year)  \\\n",
       "0   Czech Republic *                                      140.0   \n",
       "1          Austria *                                      107.8   \n",
       "2          Romania *                                      100.3   \n",
       "3          Germany *                                       99.0   \n",
       "4           Poland *                                       97.7   \n",
       "..               ...                                        ...   \n",
       "56            Uganda                                        6.0   \n",
       "57        Malaysia *                                        5.8   \n",
       "58       Sri Lanka *                                        2.0   \n",
       "59           India *                                        2.0   \n",
       "60       Indonesia *                                        0.7   \n",
       "\n",
       "    2018change(litres per year)  \\\n",
       "0                           NaN   \n",
       "1                           0.2   \n",
       "2                           1.4   \n",
       "3                          -2.1   \n",
       "4                          -0.5   \n",
       "..                          ...   \n",
       "56                          NaN   \n",
       "57                          NaN   \n",
       "58                          NaN   \n",
       "59                          NaN   \n",
       "60                          NaN   \n",
       "\n",
       "    Total nationalconsumption[a](million litresper year)    Year Sources  \n",
       "0                                              1498.0     2020.0     [2]  \n",
       "1                                               949.0     2019.0     [1]  \n",
       "2                                              1956.0     2019.0     [1]  \n",
       "3                                              8160.0     2019.0     [1]  \n",
       "4                                              3713.0     2019.0     [1]  \n",
       "..                                                ...        ...     ...  \n",
       "56                                                NaN        NaN    [11]  \n",
       "57                                                NaN     2015.0     [4]  \n",
       "58                                               50.0        NaN    [13]  \n",
       "59                                                NaN     2015.0     [4]  \n",
       "60                                                NaN     2015.0     [4]  \n",
       "\n",
       "[61 rows x 6 columns]"
      ]
     },
     "execution_count": 23,
     "metadata": {},
     "output_type": "execute_result"
    }
   ],
   "source": [
    "table = scraper[0]\n",
    "table"
   ]
  },
  {
   "cell_type": "code",
   "execution_count": 24,
   "id": "4292c45f",
   "metadata": {},
   "outputs": [],
   "source": [
    "table['Country'] = table['Country'].apply(lambda c: c.upper().replace('*',''))"
   ]
  },
  {
   "cell_type": "code",
   "execution_count": 26,
   "id": "5749c152",
   "metadata": {},
   "outputs": [],
   "source": [
    "table = table[['Country', 'Consumptionper capita[1](litres per year)']]"
   ]
  },
  {
   "cell_type": "code",
   "execution_count": 27,
   "id": "d38c52e8",
   "metadata": {},
   "outputs": [
    {
     "data": {
      "text/html": [
       "<div>\n",
       "<style scoped>\n",
       "    .dataframe tbody tr th:only-of-type {\n",
       "        vertical-align: middle;\n",
       "    }\n",
       "\n",
       "    .dataframe tbody tr th {\n",
       "        vertical-align: top;\n",
       "    }\n",
       "\n",
       "    .dataframe thead th {\n",
       "        text-align: right;\n",
       "    }\n",
       "</style>\n",
       "<table border=\"1\" class=\"dataframe\">\n",
       "  <thead>\n",
       "    <tr style=\"text-align: right;\">\n",
       "      <th></th>\n",
       "      <th>Country</th>\n",
       "      <th>Consumptionper capita[1](litres per year)</th>\n",
       "    </tr>\n",
       "  </thead>\n",
       "  <tbody>\n",
       "    <tr>\n",
       "      <th>0</th>\n",
       "      <td>CZECH REPUBLIC</td>\n",
       "      <td>140.0</td>\n",
       "    </tr>\n",
       "    <tr>\n",
       "      <th>1</th>\n",
       "      <td>AUSTRIA</td>\n",
       "      <td>107.8</td>\n",
       "    </tr>\n",
       "    <tr>\n",
       "      <th>2</th>\n",
       "      <td>ROMANIA</td>\n",
       "      <td>100.3</td>\n",
       "    </tr>\n",
       "    <tr>\n",
       "      <th>3</th>\n",
       "      <td>GERMANY</td>\n",
       "      <td>99.0</td>\n",
       "    </tr>\n",
       "    <tr>\n",
       "      <th>4</th>\n",
       "      <td>POLAND</td>\n",
       "      <td>97.7</td>\n",
       "    </tr>\n",
       "    <tr>\n",
       "      <th>...</th>\n",
       "      <td>...</td>\n",
       "      <td>...</td>\n",
       "    </tr>\n",
       "    <tr>\n",
       "      <th>56</th>\n",
       "      <td>UGANDA</td>\n",
       "      <td>6.0</td>\n",
       "    </tr>\n",
       "    <tr>\n",
       "      <th>57</th>\n",
       "      <td>MALAYSIA</td>\n",
       "      <td>5.8</td>\n",
       "    </tr>\n",
       "    <tr>\n",
       "      <th>58</th>\n",
       "      <td>SRI LANKA</td>\n",
       "      <td>2.0</td>\n",
       "    </tr>\n",
       "    <tr>\n",
       "      <th>59</th>\n",
       "      <td>INDIA</td>\n",
       "      <td>2.0</td>\n",
       "    </tr>\n",
       "    <tr>\n",
       "      <th>60</th>\n",
       "      <td>INDONESIA</td>\n",
       "      <td>0.7</td>\n",
       "    </tr>\n",
       "  </tbody>\n",
       "</table>\n",
       "<p>61 rows × 2 columns</p>\n",
       "</div>"
      ],
      "text/plain": [
       "            Country  Consumptionper capita[1](litres per year)\n",
       "0   CZECH REPUBLIC                                       140.0\n",
       "1          AUSTRIA                                       107.8\n",
       "2          ROMANIA                                       100.3\n",
       "3          GERMANY                                        99.0\n",
       "4           POLAND                                        97.7\n",
       "..              ...                                        ...\n",
       "56           UGANDA                                        6.0\n",
       "57        MALAYSIA                                         5.8\n",
       "58       SRI LANKA                                         2.0\n",
       "59           INDIA                                         2.0\n",
       "60       INDONESIA                                         0.7\n",
       "\n",
       "[61 rows x 2 columns]"
      ]
     },
     "execution_count": 27,
     "metadata": {},
     "output_type": "execute_result"
    }
   ],
   "source": [
    "table"
   ]
  },
  {
   "cell_type": "code",
   "execution_count": 36,
   "id": "5e9c7cdb",
   "metadata": {},
   "outputs": [
    {
     "data": {
      "text/plain": [
       "<AxesSubplot:ylabel='Country'>"
      ]
     },
     "execution_count": 36,
     "metadata": {},
     "output_type": "execute_result"
    },
    {
     "data": {
      "image/png": "[encoded data removed]",
      "text/plain": [
       "<Figure size 720x720 with 1 Axes>"
      ]
     },
     "metadata": {
      "needs_background": "light"
     },
     "output_type": "display_data"
    }
   ],
   "source": [
    "table.plot(kind='barh', x='Country', y='Consumptionper capita[1](litres per year)', figsize=(10,10))"
   ]
  },
  {
   "cell_type": "code",
   "execution_count": null,
   "id": "3d6983e7",
   "metadata": {},
   "outputs": [],
   "source": []
  },
  {
   "cell_type": "code",
   "execution_count": null,
   "id": "dfc8d9fe",
   "metadata": {},
   "outputs": [],
   "source": []
  }
 ],
 "metadata": {
  "kernelspec": {
   "display_name": "Python 3 (ipykernel)",
   "language": "python",
   "name": "python3"
  },
  "language_info": {
   "codemirror_mode": {
    "name": "ipython",
    "version": 3
   },
   "file_extension": ".py",
   "mimetype": "text/x-python",
   "name": "python",
   "nbconvert_exporter": "python",
   "pygments_lexer": "ipython3",
   "version": "3.8.13"
  }
 },
 "nbformat": 4,
 "nbformat_minor": 5
}
